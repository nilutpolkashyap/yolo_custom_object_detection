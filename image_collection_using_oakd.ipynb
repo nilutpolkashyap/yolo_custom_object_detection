{
 "cells": [
  {
   "cell_type": "code",
   "execution_count": 1,
   "metadata": {},
   "outputs": [],
   "source": [
    "import cv2\n",
    "import numpy as np\n",
    "import os\n",
    "import uuid\n",
    "import time\n",
    "import depthai as dai"
   ]
  },
  {
   "cell_type": "code",
   "execution_count": 2,
   "metadata": {},
   "outputs": [],
   "source": [
    "%config Completer.use_jedi = False"
   ]
  },
  {
   "cell_type": "code",
   "execution_count": 3,
   "metadata": {},
   "outputs": [],
   "source": [
    "pipeline = dai.Pipeline()\n",
    "\n",
    "camRgb = pipeline.create(dai.node.ColorCamera)\n",
    "xoutRgb = pipeline.create(dai.node.XLinkOut)\n",
    "\n",
    "xoutRgb.setStreamName(\"rgb\")\n",
    "\n",
    "camRgb.setPreviewSize(400, 300)\n",
    "camRgb.setInterleaved(False)\n",
    "camRgb.setColorOrder(dai.ColorCameraProperties.ColorOrder.RGB)\n",
    "\n",
    "camRgb.preview.link(xoutRgb.input)"
   ]
  },
  {
   "cell_type": "code",
   "execution_count": 4,
   "metadata": {},
   "outputs": [],
   "source": [
    "labels = ['arduino', 'microbit']\n",
    "IMG_NUM = 40"
   ]
  },
  {
   "cell_type": "code",
   "execution_count": 5,
   "metadata": {},
   "outputs": [
    {
     "name": "stdout",
     "output_type": "stream",
     "text": [
      "data\\images\n"
     ]
    }
   ],
   "source": [
    "IMAGES_PATH = os.path.join('data', 'images')\n",
    "print(IMAGES_PATH)"
   ]
  },
  {
   "cell_type": "code",
   "execution_count": 6,
   "metadata": {},
   "outputs": [],
   "source": [
    "for label in labels:\n",
    "    label_path = os.path.join(IMAGES_PATH, label)\n",
    "    if not os.path.exists(label_path):\n",
    "        !mkdir {label_path}"
   ]
  },
  {
   "cell_type": "code",
   "execution_count": 7,
   "metadata": {},
   "outputs": [
    {
     "name": "stdout",
     "output_type": "stream",
     "text": [
      "Connected cameras:  [<CameraBoardSocket.RGB: 0>, <CameraBoardSocket.LEFT: 1>, <CameraBoardSocket.RIGHT: 2>]\n",
      "Usb speed:  SUPER\n",
      "Image arduino 1 saved\n",
      "Image arduino 2 saved\n",
      "Image arduino 3 saved\n",
      "Image arduino 4 saved\n",
      "Image arduino 5 saved\n",
      "Image arduino 6 saved\n",
      "Image arduino 7 saved\n",
      "Image arduino 8 saved\n",
      "Image arduino 9 saved\n",
      "Image arduino 10 saved\n",
      "Image arduino 11 saved\n",
      "Image arduino 12 saved\n",
      "Image arduino 13 saved\n",
      "Image arduino 14 saved\n",
      "Image arduino 15 saved\n",
      "Image arduino 16 saved\n",
      "Image arduino 17 saved\n",
      "Image arduino 18 saved\n",
      "Image arduino 19 saved\n",
      "Image arduino 20 saved\n",
      "Image arduino 21 saved\n",
      "Image arduino 22 saved\n",
      "Image arduino 23 saved\n",
      "Image arduino 24 saved\n",
      "Image arduino 25 saved\n",
      "Image arduino 26 saved\n",
      "Image arduino 27 saved\n",
      "Image arduino 28 saved\n",
      "Image arduino 29 saved\n",
      "Image arduino 30 saved\n",
      "Image microbit 1 saved\n",
      "Image microbit 2 saved\n",
      "Image microbit 3 saved\n",
      "Image microbit 4 saved\n",
      "Image microbit 5 saved\n",
      "Image microbit 6 saved\n",
      "Image microbit 7 saved\n",
      "Image microbit 8 saved\n",
      "Image microbit 9 saved\n",
      "Image microbit 10 saved\n",
      "Image microbit 11 saved\n",
      "Image microbit 12 saved\n",
      "Image microbit 13 saved\n",
      "Image microbit 14 saved\n",
      "Image microbit 15 saved\n",
      "Image microbit 16 saved\n",
      "Image microbit 17 saved\n",
      "Image microbit 18 saved\n",
      "Image microbit 19 saved\n",
      "Image microbit 20 saved\n",
      "Image microbit 21 saved\n",
      "Image microbit 22 saved\n",
      "Image microbit 23 saved\n",
      "Image microbit 24 saved\n",
      "Image microbit 25 saved\n",
      "Image microbit 26 saved\n",
      "Image microbit 27 saved\n",
      "Image microbit 28 saved\n",
      "Image microbit 29 saved\n",
      "Image microbit 30 saved\n",
      "Image microbit 31 saved\n"
     ]
    }
   ],
   "source": [
    "with dai.Device(pipeline) as device:\n",
    "    print('Connected cameras: ', device.getConnectedCameras())\n",
    "    # Print out usb speed\n",
    "    print('Usb speed: ', device.getUsbSpeed().name)\n",
    "    # Output queue will be used to get the rgb frames from the output defined above\n",
    "    qRgb = device.getOutputQueue(name=\"rgb\", maxSize=4, blocking=False)\n",
    "    \n",
    "    for label in labels:\n",
    "        \n",
    "        counter = 0\n",
    "            \n",
    "        while(counter < IMG_NUM):\n",
    "            inRgb = qRgb.get()  # blocking call, will wait until a new data has arrived    \n",
    "            # Retrieve 'bgr' (opencv format) frame\n",
    "            cv2.imshow(\"rgb\", inRgb.getCvFrame())\n",
    "                \n",
    "            k = cv2.waitKey(1) \n",
    "            if k == ord('q'):\n",
    "                break\n",
    "            \n",
    "            if k == ord('s'):\n",
    "                img_name = os.path.join(IMAGES_PATH, label, label+'_'+'{}.jpg'.format(str(counter)))\n",
    "                cv2.imwrite(img_name, inRgb.getCvFrame())\n",
    "                counter = counter + 1\n",
    "                print(\"Image {} {} saved\".format(label, counter))\n",
    "                    \n",
    "    cv2.destroyAllWindows()"
   ]
  },
  {
   "cell_type": "code",
   "execution_count": 14,
   "metadata": {},
   "outputs": [],
   "source": [
    "cv2.destroyAllWindows()"
   ]
  },
  {
   "cell_type": "code",
   "execution_count": 42,
   "metadata": {},
   "outputs": [
    {
     "name": "stdout",
     "output_type": "stream",
     "text": [
      "Connected cameras:  [<CameraBoardSocket.RGB: 0>, <CameraBoardSocket.LEFT: 1>, <CameraBoardSocket.RIGHT: 2>]\n",
      "Usb speed:  SUPER\n"
     ]
    }
   ],
   "source": [
    "\n",
    "\n",
    "import cv2\n",
    "import depthai as dai\n",
    "\n",
    "# Create pipeline\n",
    "pipeline = dai.Pipeline()\n",
    "\n",
    "# Define source and output\n",
    "camRgb = pipeline.create(dai.node.ColorCamera)\n",
    "xoutRgb = pipeline.create(dai.node.XLinkOut)\n",
    "\n",
    "xoutRgb.setStreamName(\"rgb\")\n",
    "\n",
    "# Properties\n",
    "camRgb.setPreviewSize(400, 300)\n",
    "camRgb.setInterleaved(False)\n",
    "camRgb.setColorOrder(dai.ColorCameraProperties.ColorOrder.RGB)\n",
    "\n",
    "# Linking\n",
    "camRgb.preview.link(xoutRgb.input)\n",
    "\n",
    "# Connect to device and start pipeline\n",
    "with dai.Device(pipeline) as device:\n",
    "\n",
    "    print('Connected cameras: ', device.getConnectedCameras())\n",
    "    # Print out usb speed\n",
    "    print('Usb speed: ', device.getUsbSpeed().name)\n",
    "\n",
    "    # Output queue will be used to get the rgb frames from the output defined above\n",
    "    qRgb = device.getOutputQueue(name=\"rgb\", maxSize=4, blocking=False)\n",
    "\n",
    "    while True:\n",
    "        inRgb = qRgb.get()  # blocking call, will wait until a new data has arrived\n",
    "\n",
    "        # Retrieve 'bgr' (opencv format) frame\n",
    "        cv2.imshow(\"rgb\", inRgb.getCvFrame())\n",
    "\n",
    "        if cv2.waitKey(1) == ord('q'):\n",
    "            break"
   ]
  },
  {
   "cell_type": "code",
   "execution_count": 43,
   "metadata": {},
   "outputs": [],
   "source": [
    "cv2.destroyAllWindows()"
   ]
  },
  {
   "cell_type": "code",
   "execution_count": null,
   "metadata": {},
   "outputs": [],
   "source": []
  }
 ],
 "metadata": {
  "kernelspec": {
   "display_name": "tfgpu",
   "language": "python",
   "name": "tfgpu"
  },
  "language_info": {
   "codemirror_mode": {
    "name": "ipython",
    "version": 3
   },
   "file_extension": ".py",
   "mimetype": "text/x-python",
   "name": "python",
   "nbconvert_exporter": "python",
   "pygments_lexer": "ipython3",
   "version": "3.7.11"
  }
 },
 "nbformat": 4,
 "nbformat_minor": 4
}
