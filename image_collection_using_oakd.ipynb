{
 "cells": [
  {
   "cell_type": "code",
   "execution_count": 1,
   "metadata": {},
   "outputs": [],
   "source": [
    "import cv2\n",
    "import numpy as np\n",
    "import os\n",
    "import uuid\n",
    "import time\n",
    "import depthai as dai"
   ]
  },
  {
   "cell_type": "code",
   "execution_count": 2,
   "metadata": {},
   "outputs": [],
   "source": [
    "%config Completer.use_jedi = False"
   ]
  },
  {
   "cell_type": "code",
   "execution_count": 34,
   "metadata": {},
   "outputs": [],
   "source": [
    "pipeline = dai.Pipeline()"
   ]
  },
  {
   "cell_type": "code",
   "execution_count": 35,
   "metadata": {},
   "outputs": [],
   "source": [
    "camRgb = pipeline.create(dai.node.ColorCamera)\n",
    "xoutRgb = pipeline.create(dai.node.XLinkOut)\n",
    "\n",
    "xoutRgb.setStreamName(\"rgb\")"
   ]
  },
  {
   "cell_type": "code",
   "execution_count": 36,
   "metadata": {},
   "outputs": [],
   "source": [
    "camRgb.setPreviewSize(400, 300)\n",
    "camRgb.setInterleaved(False)\n",
    "camRgb.setColorOrder(dai.ColorCameraProperties.ColorOrder.RGB)"
   ]
  },
  {
   "cell_type": "code",
   "execution_count": 37,
   "metadata": {},
   "outputs": [],
   "source": [
    "camRgb.preview.link(xoutRgb.input)"
   ]
  },
  {
   "cell_type": "code",
   "execution_count": 45,
   "metadata": {},
   "outputs": [],
   "source": [
    "labels = ['arduino', 'microbit']\n",
    "IMG_NUM = 40"
   ]
  },
  {
   "cell_type": "code",
   "execution_count": 39,
   "metadata": {},
   "outputs": [
    {
     "name": "stdout",
     "output_type": "stream",
     "text": [
      "data\\images\n"
     ]
    }
   ],
   "source": [
    "IMAGES_PATH = os.path.join('data', 'images')\n",
    "print(IMAGES_PATH)"
   ]
  },
  {
   "cell_type": "code",
   "execution_count": 40,
   "metadata": {},
   "outputs": [],
   "source": [
    "for label in labels:\n",
    "    label_path = os.path.join(IMAGES_PATH, label)\n",
    "    if not os.path.exists(label_path):\n",
    "        !mkdir {label_path}"
   ]
  },
  {
   "cell_type": "code",
   "execution_count": 47,
   "metadata": {},
   "outputs": [
    {
     "name": "stdout",
     "output_type": "stream",
     "text": [
      "Connected cameras:  [<CameraBoardSocket.RGB: 0>, <CameraBoardSocket.LEFT: 1>, <CameraBoardSocket.RIGHT: 2>]\n",
      "Usb speed:  SUPER\n",
      "Image arduino 1 saved\n",
      "Image arduino 2 saved\n",
      "Image arduino 3 saved\n"
     ]
    }
   ],
   "source": [
    "with dai.Device(pipeline) as device:\n",
    "    print('Connected cameras: ', device.getConnectedCameras())\n",
    "    # Print out usb speed\n",
    "    print('Usb speed: ', device.getUsbSpeed().name)\n",
    "    # Output queue will be used to get the rgb frames from the output defined above\n",
    "    qRgb = device.getOutputQueue(name=\"rgb\", maxSize=4, blocking=False)\n",
    "    \n",
    "    for label in labels:\n",
    "        \n",
    "        counter = 0\n",
    "            \n",
    "        while(counter < IMG_NUM):\n",
    "            inRgb = qRgb.get()  # blocking call, will wait until a new data has arrived    \n",
    "            # Retrieve 'bgr' (opencv format) frame\n",
    "            cv2.imshow(\"rgb\", inRgb.getCvFrame())\n",
    "                \n",
    "            k = cv2.waitKey(1) \n",
    "            if k == ord('q'):\n",
    "                break\n",
    "            \n",
    "            if k == ord('s'):\n",
    "                img_name = os.path.join(IMAGES_PATH, label, label+'_'+'{}.jpg'.format(str(counter)))\n",
    "                cv2.imwrite(img_name, inRgb.getCvFrame())\n",
    "                counter = counter + 1\n",
    "                print(\"Image {} {} saved\".format(label, counter))\n",
    "                    \n",
    "    cv2.destroyAllWindows()"
   ]
  },
  {
   "cell_type": "code",
   "execution_count": 14,
   "metadata": {},
   "outputs": [],
   "source": [
    "cv2.destroyAllWindows()"
   ]
  },
  {
   "cell_type": "code",
   "execution_count": 42,
   "metadata": {},
   "outputs": [
    {
     "name": "stdout",
     "output_type": "stream",
     "text": [
      "Connected cameras:  [<CameraBoardSocket.RGB: 0>, <CameraBoardSocket.LEFT: 1>, <CameraBoardSocket.RIGHT: 2>]\n",
      "Usb speed:  SUPER\n"
     ]
    }
   ],
   "source": [
    "\n",
    "\n",
    "import cv2\n",
    "import depthai as dai\n",
    "\n",
    "# Create pipeline\n",
    "pipeline = dai.Pipeline()\n",
    "\n",
    "# Define source and output\n",
    "camRgb = pipeline.create(dai.node.ColorCamera)\n",
    "xoutRgb = pipeline.create(dai.node.XLinkOut)\n",
    "\n",
    "xoutRgb.setStreamName(\"rgb\")\n",
    "\n",
    "# Properties\n",
    "camRgb.setPreviewSize(400, 300)\n",
    "camRgb.setInterleaved(False)\n",
    "camRgb.setColorOrder(dai.ColorCameraProperties.ColorOrder.RGB)\n",
    "\n",
    "# Linking\n",
    "camRgb.preview.link(xoutRgb.input)\n",
    "\n",
    "# Connect to device and start pipeline\n",
    "with dai.Device(pipeline) as device:\n",
    "\n",
    "    print('Connected cameras: ', device.getConnectedCameras())\n",
    "    # Print out usb speed\n",
    "    print('Usb speed: ', device.getUsbSpeed().name)\n",
    "\n",
    "    # Output queue will be used to get the rgb frames from the output defined above\n",
    "    qRgb = device.getOutputQueue(name=\"rgb\", maxSize=4, blocking=False)\n",
    "\n",
    "    while True:\n",
    "        inRgb = qRgb.get()  # blocking call, will wait until a new data has arrived\n",
    "\n",
    "        # Retrieve 'bgr' (opencv format) frame\n",
    "        cv2.imshow(\"rgb\", inRgb.getCvFrame())\n",
    "\n",
    "        if cv2.waitKey(1) == ord('q'):\n",
    "            break"
   ]
  },
  {
   "cell_type": "code",
   "execution_count": 43,
   "metadata": {},
   "outputs": [],
   "source": [
    "cv2.destroyAllWindows()"
   ]
  },
  {
   "cell_type": "code",
   "execution_count": null,
   "metadata": {},
   "outputs": [],
   "source": []
  }
 ],
 "metadata": {
  "kernelspec": {
   "display_name": "tfgpu",
   "language": "python",
   "name": "tfgpu"
  },
  "language_info": {
   "codemirror_mode": {
    "name": "ipython",
    "version": 3
   },
   "file_extension": ".py",
   "mimetype": "text/x-python",
   "name": "python",
   "nbconvert_exporter": "python",
   "pygments_lexer": "ipython3",
   "version": "3.7.11"
  }
 },
 "nbformat": 4,
 "nbformat_minor": 4
}
